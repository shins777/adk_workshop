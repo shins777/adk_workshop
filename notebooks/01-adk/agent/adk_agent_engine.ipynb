{
 "cells": [
  {
   "cell_type": "code",
   "execution_count": null,
   "metadata": {
    "id": "ijGzTHJJUCPY"
   },
   "outputs": [],
   "source": [
    "# Copyright 2025 Forusone\n",
    "\n",
    "# Licensed under the Apache License, Version 2.0 (the \"License\");\n",
    "# you may not use this file except in compliance with the License.\n",
    "# You may obtain a copy of the License at\n",
    "#\n",
    "#     https://www.apache.org/licenses/LICENSE-2.0\n",
    "#\n",
    "# Unless required by applicable law or agreed to in writing, software\n",
    "# distributed under the License is distributed on an \"AS IS\" BASIS,\n",
    "# WITHOUT WARRANTIES OR CONDITIONS OF ANY KIND, either express or implied.\n",
    "# See the License for the specific language governing permissions and\n",
    "# limitations under the License."
   ]
  },
  {
   "cell_type": "markdown",
   "metadata": {
    "id": "VEqbX8OhE8y9"
   },
   "source": [
    "## Agent Development Kit\n"
   ]
  },
  {
   "cell_type": "markdown",
   "metadata": {
    "id": "No17Cw5hgx12"
   },
   "source": [
    "### Install adk"
   ]
  },
  {
   "cell_type": "code",
   "execution_count": 5,
   "metadata": {
    "colab": {
     "base_uri": "https://localhost:8080/"
    },
    "executionInfo": {
     "elapsed": 29952,
     "status": "ok",
     "timestamp": 1745977464146,
     "user": {
      "displayName": "Hangsik Shin",
      "userId": "04632555686962088332"
     },
     "user_tz": -540
    },
    "id": "2Pn7bWWkVtd1",
    "outputId": "7f5b1c1b-8e10-4f10-b489-e1563df76802"
   },
   "outputs": [],
   "source": [
    "!pip install --upgrade --quiet google-adk"
   ]
  },
  {
   "cell_type": "code",
   "execution_count": 6,
   "metadata": {
    "colab": {
     "base_uri": "https://localhost:8080/"
    },
    "executionInfo": {
     "elapsed": 10,
     "status": "ok",
     "timestamp": 1745977464158,
     "user": {
      "displayName": "Hangsik Shin",
      "userId": "04632555686962088332"
     },
     "user_tz": -540
    },
    "id": "NyKGtVQjgx13",
    "outputId": "f71976be-8d16-476d-9602-6c974c093999"
   },
   "outputs": [
    {
     "name": "stdout",
     "output_type": "stream",
     "text": [
      "gemini-2.5-flash\n"
     ]
    }
   ],
   "source": [
    "# @title Project Information\n",
    "\n",
    "PROJECT_ID = \"ai-hangsik\"\n",
    "LOCATION = \"us-central1\"\n",
    "MODEL_NAME = \"gemini-2.5-flash\"\n",
    "\n",
    "print(MODEL_NAME)"
   ]
  },
  {
   "cell_type": "code",
   "execution_count": 7,
   "metadata": {},
   "outputs": [
    {
     "name": "stdout",
     "output_type": "stream",
     "text": [
      "Reauthentication required.\n",
      "Please enter your password:Your browser has been opened to visit:\n",
      "\n",
      "    https://accounts.google.com/o/oauth2/auth?response_type=code&client_id=764086051850-6qr4p6gpi6hn506pt8ejuq83di341hur.apps.googleusercontent.com&redirect_uri=http%3A%2F%2Flocalhost%3A8085%2F&scope=openid+https%3A%2F%2Fwww.googleapis.com%2Fauth%2Fuserinfo.email+https%3A%2F%2Fwww.googleapis.com%2Fauth%2Fcloud-platform+https%3A%2F%2Fwww.googleapis.com%2Fauth%2Fsqlservice.login&state=TojfvPOeV2DhA5ib3DL9CaJtoEtmYS&access_type=offline&code_challenge=RIwdGhnLb_Tob_QIv-mAYoGINsmJhZz8RtUyPLTYBDs&code_challenge_method=S256\n",
      "\n",
      "\n",
      "Credentials saved to file: [/Users/hangsik/.config/gcloud/application_default_credentials.json]\n",
      "\n",
      "These credentials will be used by any library that requests Application Default Credentials (ADC).\n",
      "\n",
      "Quota project \"ai-hangsik\" was added to ADC which can be used by Google client libraries for billing and quota. Note that some services may still bill the project owning the resource.\n"
     ]
    }
   ],
   "source": [
    "!gcloud config set project {PROJECT_ID}\n",
    "!gcloud auth application-default login"
   ]
  },
  {
   "cell_type": "markdown",
   "metadata": {
    "id": "RtugMhD2sSKz"
   },
   "source": [
    "## Agent on adk"
   ]
  },
  {
   "cell_type": "code",
   "execution_count": 8,
   "metadata": {
    "executionInfo": {
     "elapsed": 29853,
     "status": "ok",
     "timestamp": 1745977511810,
     "user": {
      "displayName": "Hangsik Shin",
      "userId": "04632555686962088332"
     },
     "user_tz": -540
    },
    "id": "izRW4SsAZYXc"
   },
   "outputs": [
    {
     "name": "stderr",
     "output_type": "stream",
     "text": [
      "/Users/hangsik/Documents/project/adk_workshop/.venv/lib/python3.12/site-packages/google/cloud/aiplatform/models.py:52: FutureWarning: Support for google-cloud-storage < 3.0.0 will be removed in a future version of google-cloud-aiplatform. Please upgrade to google-cloud-storage >= 3.0.0.\n",
      "  from google.cloud.aiplatform.utils import gcs_utils\n"
     ]
    }
   ],
   "source": [
    "#@title Build a Agent with adk.\n",
    "from google.adk.agents import Agent\n",
    "from google.adk.tools import google_search\n",
    "\n",
    "agent = Agent(\n",
    "    name=\"search_assistant\",\n",
    "    model=MODEL_NAME,\n",
    "    instruction=\"You are a helpful assistant. Answer user questions using Google Search when needed.\",\n",
    "    description=\"An assistant that can search the web.\",\n",
    "    tools=[google_search] # Use Google search tool\n",
    ")\n"
   ]
  },
  {
   "cell_type": "code",
   "execution_count": 9,
   "metadata": {
    "colab": {
     "base_uri": "https://localhost:8080/",
     "height": 316
    },
    "executionInfo": {
     "elapsed": 15215,
     "status": "ok",
     "timestamp": 1745977554117,
     "user": {
      "displayName": "Hangsik Shin",
      "userId": "04632555686962088332"
     },
     "user_tz": -540
    },
    "id": "ifOcbxH2cAp3",
    "outputId": "b8f359b0-14ba-4e1a-9da0-34873e57f392"
   },
   "outputs": [
    {
     "name": "stderr",
     "output_type": "stream",
     "text": [
      "/Users/hangsik/Documents/project/adk_workshop/.venv/lib/python3.12/site-packages/vertexai/preview/reasoning_engines/templates/adk.py:721: UserWarning: [EXPERIMENTAL] InMemoryCredentialService: This feature is experimental and may change or be removed in future versions without notice. It may introduce breaking changes at any time.\n",
      "  self._tmpl_attrs[\"credential_service\"] = InMemoryCredentialService()\n",
      "/Users/hangsik/Documents/project/adk_workshop/.venv/lib/python3.12/site-packages/google/adk/auth/credential_service/in_memory_credential_service.py:33: UserWarning: [EXPERIMENTAL] BaseCredentialService: This feature is experimental and may change or be removed in future versions without notice. It may introduce breaking changes at any time.\n",
      "  super().__init__()\n"
     ]
    },
    {
     "name": "stdout",
     "output_type": "stream",
     "text": [
      "As of November 1, 2025, the exchange rate from US dollars to Korean Won is approximately 1,427.3380 KRW for 1 USD. Other recent figures from October 31, 2025, indicated the rate was around 1,429.2200 KRW for 1 USD. The South Korean Won has been trading around 1,430 per dollar recently, near a six-month low.\n"
     ]
    }
   ],
   "source": [
    "#@title Integrate an agent with Agent Engine\n",
    "\n",
    "from vertexai.preview.reasoning_engines import AdkApp\n",
    "\n",
    "app = AdkApp(agent=agent)\n",
    "\n",
    "response = app.stream_query(\n",
    "   user_id=\"shins\",  # Required\n",
    "   message=\"What is the exchange rate from US dollars to Korean currency today ?\",\n",
    ")\n",
    "\n",
    "for event in response:\n",
    "  print(event['content']['parts'][0]['text'])\n"
   ]
  },
  {
   "cell_type": "markdown",
   "metadata": {
    "id": "hwdzBvlAd2zC"
   },
   "source": [
    "## Deploy agent on Agent Engine for a managed service."
   ]
  },
  {
   "cell_type": "code",
   "execution_count": 10,
   "metadata": {
    "colab": {
     "base_uri": "https://localhost:8080/"
    },
    "executionInfo": {
     "elapsed": 3222,
     "status": "ok",
     "timestamp": 1745977561311,
     "user": {
      "displayName": "Hangsik Shin",
      "userId": "04632555686962088332"
     },
     "user_tz": -540
    },
    "id": "GRBRrcQLlMDC",
    "outputId": "cfe44f85-97ad-4d8d-cace-9bf574e52a2a"
   },
   "outputs": [],
   "source": [
    "#@title Create a bucket to store agent engine artifacts\n",
    "\n",
    "BUCKET_URI = f\"gs://agent-0417\"\n",
    "# !gsutil mb -l {LOCATION} -p {PROJECT_ID} {BUCKET_URI}"
   ]
  },
  {
   "cell_type": "code",
   "execution_count": null,
   "metadata": {
    "colab": {
     "base_uri": "https://localhost:8080/"
    },
    "executionInfo": {
     "elapsed": 1150,
     "status": "ok",
     "timestamp": 1745977673597,
     "user": {
      "displayName": "Hangsik Shin",
      "userId": "04632555686962088332"
     },
     "user_tz": -540
    },
    "id": "rTGRGmOlX1RQ",
    "outputId": "f9bea526-b364-49b3-f597-81d35bfc84cc"
   },
   "outputs": [
    {
     "name": "stdout",
     "output_type": "stream",
     "text": [
      "SERVICE_ACCOUNT: 721521243942-compute@developer.gserviceaccount.com\n"
     ]
    }
   ],
   "source": [
    "# # @title Service account\n",
    "# shell_output = ! gcloud projects describe  $PROJECT_ID\n",
    "# project_number = shell_output[-1].split(\":\")[1].strip().replace(\"'\", \"\")\n",
    "# SERVICE_ACCOUNT = f\"{project_number}-compute@developer.gserviceaccount.com\"\n",
    "# print(f\"SERVICE_ACCOUNT: {SERVICE_ACCOUNT}\")"
   ]
  },
  {
   "cell_type": "code",
   "execution_count": null,
   "metadata": {
    "executionInfo": {
     "elapsed": 5438,
     "status": "ok",
     "timestamp": 1745977687526,
     "user": {
      "displayName": "Hangsik Shin",
      "userId": "04632555686962088332"
     },
     "user_tz": -540
    },
    "id": "5kPjz9xCYRDv"
   },
   "outputs": [],
   "source": [
    "# !gsutil iam ch serviceAccount:{SERVICE_ACCOUNT}:roles/storage.objectCreator $BUCKET_URI\n",
    "# !gsutil iam ch serviceAccount:{SERVICE_ACCOUNT}:roles/storage.objectViewer $BUCKET_URI"
   ]
  },
  {
   "cell_type": "code",
   "execution_count": 11,
   "metadata": {
    "executionInfo": {
     "elapsed": 4,
     "status": "ok",
     "timestamp": 1745977691601,
     "user": {
      "displayName": "Hangsik Shin",
      "userId": "04632555686962088332"
     },
     "user_tz": -540
    },
    "id": "Nqwi-5ufWp_B"
   },
   "outputs": [],
   "source": [
    "#@title Initialize Vertex AI with Staging Bucket.\n",
    "import vertexai\n",
    "vertexai.init(project=PROJECT_ID, location=LOCATION, staging_bucket=BUCKET_URI)"
   ]
  },
  {
   "cell_type": "code",
   "execution_count": 12,
   "metadata": {
    "colab": {
     "base_uri": "https://localhost:8080/"
    },
    "executionInfo": {
     "elapsed": 199274,
     "status": "ok",
     "timestamp": 1745977900929,
     "user": {
      "displayName": "Hangsik Shin",
      "userId": "04632555686962088332"
     },
     "user_tz": -540
    },
    "id": "fd3b88c73411",
    "outputId": "0fb037b2-5c5d-46b1-940c-7b79a1482060"
   },
   "outputs": [
    {
     "name": "stdout",
     "output_type": "stream",
     "text": [
      "Identified the following requirements: {'pydantic': '2.12.3', 'cloudpickle': '3.1.1', 'google-cloud-aiplatform': '1.124.0'}\n",
      "The following requirements are missing: {'pydantic', 'google-cloud-aiplatform'}\n",
      "The following requirements are incompatible: {'cloudpickle==3.1.1 (required: ==3.0)'}\n",
      "The following requirements are appended: {'pydantic==2.12.3'}\n",
      "The final list of requirements: ['google-adk', 'cloudpickle==3.0', 'pydantic==2.12.3']\n",
      "Using bucket agent-0417\n",
      "Wrote to gs://agent-0417/ai-agent-adk/agent_engine.pkl\n",
      "Writing to gs://agent-0417/ai-agent-adk/requirements.txt\n",
      "Creating in-memory tarfile of extra_packages\n",
      "Writing to gs://agent-0417/ai-agent-adk/dependencies.tar.gz\n",
      "Bidi stream API mode is not supported yet in Vertex SDK, please use the GenAI SDK instead. Skipping method bidi_stream_query.\n",
      "Creating AgentEngine\n",
      "Create AgentEngine backing LRO: projects/721521243942/locations/us-central1/reasoningEngines/1618186446970028032/operations/1630544631248715776\n",
      "View progress and logs at https://console.cloud.google.com/logs/query?project=ai-hangsik\n",
      "AgentEngine created. Resource name: projects/721521243942/locations/us-central1/reasoningEngines/1618186446970028032\n",
      "To use this AgentEngine in another session:\n",
      "agent_engine = vertexai.agent_engines.get('projects/721521243942/locations/us-central1/reasoningEngines/1618186446970028032')\n"
     ]
    }
   ],
   "source": [
    "# @title Deploy your agent on Vertex AI\n",
    "\n",
    "from vertexai import agent_engines\n",
    "\n",
    "# https://cloud.google.com/vertex-ai/generative-ai/docs/reference/python/latest/vertexai.preview.reasoning_engines.ReasoningEngine#vertexai_preview_reasoning_engines_ReasoningEngine_create\n",
    "\n",
    "remote_agent = agent_engines.create(\n",
    "    app,\n",
    "    display_name=\"currency agent-20251101\",\n",
    "    gcs_dir_name = \"ai-agent-adk\",\n",
    "    description=\"This is a simple agent with adk on agent engine.\",\n",
    "    requirements=[\n",
    "        \"google-adk\",\n",
    "        \"cloudpickle==3.0\",\n",
    "    ],\n",
    "    extra_packages = []\n",
    ")"
   ]
  },
  {
   "cell_type": "code",
   "execution_count": 14,
   "metadata": {
    "colab": {
     "base_uri": "https://localhost:8080/",
     "height": 418
    },
    "executionInfo": {
     "elapsed": 17768,
     "status": "ok",
     "timestamp": 1745978030934,
     "user": {
      "displayName": "Hangsik Shin",
      "userId": "04632555686962088332"
     },
     "user_tz": -540
    },
    "id": "ZvKIx04zp975",
    "outputId": "4b3b7554-905b-4cf1-ce67-e6f11d28a5d6"
   },
   "outputs": [
    {
     "name": "stdout",
     "output_type": "stream",
     "text": [
      "On November 1, 2025, the exchange rate for US dollars to Korean Won is approximately 1 USD to 1427-1429 KRW.\n",
      "\n",
      "Specifically:\n",
      "*   Wise reports a mid-market exchange rate of 1 USD to 1,429 KRW as of November 1, 2025.\n",
      "*   Xe indicates that 1 USD is equal to 1,427.9585 South Korean Won, last updated on November 1, 2025, at 03:53 UTC.\n",
      "*   Revolut shows an exchange rate of 1 USD = 1,427.3380 KRW.\n",
      "*   Trading Economics reported the USD/KRW exchange rate at 1,429.2200 on October 31, 2025.\n",
      "\n",
      "These rates can fluctuate throughout the day and may vary slightly between different financial institutions and currency exchange services.\n"
     ]
    }
   ],
   "source": [
    "# @title Query from remote engine.\n",
    "\n",
    "for event in remote_agent.stream_query(\n",
    "    user_id=\"shins\",\n",
    "    message=\"What is the exchange rate from US dollars to Korean Won currency on today?\",\n",
    "):\n",
    "  outcome = event['content']['parts'][0]['text']\n",
    "  print(outcome)"
   ]
  },
  {
   "cell_type": "code",
   "execution_count": 22,
   "metadata": {},
   "outputs": [],
   "source": [
    "# @title Helper function to manage reasoning engine.\n",
    "\n",
    "from vertexai import agent_engines\n",
    "\n",
    "# Properties of ReasoningEngine class.\n",
    "# https://cloud.google.com/vertex-ai/generative-ai/docs/agent-engine/manage/overview\n",
    "\n",
    "#----------------------------------------\n",
    "def get_agent_engine(display_name:str):\n",
    "  try:\n",
    "    for agent in agent_engines.list():\n",
    "      if agent.display_name == display_name:\n",
    "        return agent_engines.get(agent.name)\n",
    "\n",
    "      else:\n",
    "        print(\"No such reasoning engine or Invalid display name.\")\n",
    "\n",
    "  except Exception as e:\n",
    "    print(e)\n",
    "\n",
    "#----------------------------------------\n",
    "def show_agents():\n",
    "  \"\"\"\n",
    "  List reasoning engines.\n",
    "  \"\"\"\n",
    "\n",
    "  try:\n",
    "    if not agent_engines.list():\n",
    "      print(\"No reasoning engines\")\n",
    "\n",
    "    for idx, agent in enumerate(agent_engines.list()):\n",
    "        print(f\"Agent {idx}: \\n\\tDisplay Name [{agent.display_name}] \\n\\tName [{agent.name}] \\n\\tCreation Time [{agent.create_time}] \\n\\tResource Name [{agent.resource_name}]\\n\")\n",
    "\n",
    "  except Exception as e:\n",
    "    print(e)\n",
    "\n",
    "#----------------------------------------\n",
    "\n",
    "def delete_agent(name):\n",
    "  \"\"\"\n",
    "  Delete a reasoning engines.\n",
    "  @param name: The name of the reasoning engine.\n",
    "  @type name: str\n",
    "  \"\"\"\n",
    "\n",
    "  try:\n",
    "    re = agent_engines.get(name)\n",
    "    re.delete()\n",
    "    print(f\"Deleted {name}\")\n",
    "  except Exception as e:\n",
    "    print(e)\n"
   ]
  },
  {
   "cell_type": "markdown",
   "metadata": {
    "id": "U4rRi9w9SbzE"
   },
   "source": [
    "## Agent Management"
   ]
  },
  {
   "cell_type": "code",
   "execution_count": 23,
   "metadata": {
    "colab": {
     "base_uri": "https://localhost:8080/"
    },
    "executionInfo": {
     "elapsed": 602,
     "status": "ok",
     "timestamp": 1745978199525,
     "user": {
      "displayName": "Hangsik Shin",
      "userId": "04632555686962088332"
     },
     "user_tz": -540
    },
    "id": "DsnHQ2VKRQLX",
    "outputId": "7ac507cf-9f28-433c-8e88-3470b35e7da3"
   },
   "outputs": [
    {
     "name": "stdout",
     "output_type": "stream",
     "text": [
      "Agent 0: \n",
      "\tDisplay Name [currency agent-20251101] \n",
      "\tName [1618186446970028032] \n",
      "\tCreation Time [2025-11-01 13:55:15.986889+00:00] \n",
      "\tResource Name [projects/721521243942/locations/us-central1/reasoningEngines/1618186446970028032]\n",
      "\n",
      "Agent 1: \n",
      "\tDisplay Name [agent_us_central1-2] \n",
      "\tName [5875213994741989376] \n",
      "\tCreation Time [2025-11-01 12:17:44.735774+00:00] \n",
      "\tResource Name [projects/721521243942/locations/us-central1/reasoningEngines/5875213994741989376]\n",
      "\n",
      "Agent 2: \n",
      "\tDisplay Name [agent_us_central1] \n",
      "\tName [3146032620555468800] \n",
      "\tCreation Time [2025-11-01 11:43:06.868856+00:00] \n",
      "\tResource Name [projects/721521243942/locations/us-central1/reasoningEngines/3146032620555468800]\n",
      "\n",
      "Agent 3: \n",
      "\tDisplay Name [agent_us_central1] \n",
      "\tName [5561087920732897280] \n",
      "\tCreation Time [2025-11-01 11:43:17.196871+00:00] \n",
      "\tResource Name [projects/721521243942/locations/us-central1/reasoningEngines/5561087920732897280]\n",
      "\n",
      "Agent 4: \n",
      "\tDisplay Name [agent_us_central1] \n",
      "\tName [7428955866184810496] \n",
      "\tCreation Time [2025-11-01 10:58:55.584278+00:00] \n",
      "\tResource Name [projects/721521243942/locations/us-central1/reasoningEngines/7428955866184810496]\n",
      "\n",
      "Agent 5: \n",
      "\tDisplay Name [agent_us_central1] \n",
      "\tName [601498831091138560] \n",
      "\tCreation Time [2025-11-01 10:43:24.807992+00:00] \n",
      "\tResource Name [projects/721521243942/locations/us-central1/reasoningEngines/601498831091138560]\n",
      "\n",
      "Agent 6: \n",
      "\tDisplay Name [currency agent with adk] \n",
      "\tName [6726394324315013120] \n",
      "\tCreation Time [2025-11-01 10:30:01.396709+00:00] \n",
      "\tResource Name [projects/721521243942/locations/us-central1/reasoningEngines/6726394324315013120]\n",
      "\n",
      "Agent 7: \n",
      "\tDisplay Name [adk_agent_20250728] \n",
      "\tName [8021852118300229632] \n",
      "\tCreation Time [2025-07-30 11:13:10.995674+00:00] \n",
      "\tResource Name [projects/721521243942/locations/us-central1/reasoningEngines/8021852118300229632]\n",
      "\n",
      "Agent 8: \n",
      "\tDisplay Name [adk_agent_20250729] \n",
      "\tName [1384109217509539840] \n",
      "\tCreation Time [2025-07-30 10:59:43.834349+00:00] \n",
      "\tResource Name [projects/721521243942/locations/us-central1/reasoningEngines/1384109217509539840]\n",
      "\n",
      "Agent 9: \n",
      "\tDisplay Name [adk_agent_20250730] \n",
      "\tName [6733822624872267776] \n",
      "\tCreation Time [2025-07-30 08:05:14.246029+00:00] \n",
      "\tResource Name [projects/721521243942/locations/us-central1/reasoningEngines/6733822624872267776]\n",
      "\n",
      "Agent 10: \n",
      "\tDisplay Name [adk_session] \n",
      "\tName [2231366489594658816] \n",
      "\tCreation Time [2025-06-23 04:07:31.350673+00:00] \n",
      "\tResource Name [projects/721521243942/locations/us-central1/reasoningEngines/2231366489594658816]\n",
      "\n",
      "Agent 11: \n",
      "\tDisplay Name [forusone] \n",
      "\tName [4971736494105427968] \n",
      "\tCreation Time [2025-05-31 06:40:47.013171+00:00] \n",
      "\tResource Name [projects/721521243942/locations/us-central1/reasoningEngines/4971736494105427968]\n",
      "\n",
      "Agent 12: \n",
      "\tDisplay Name [shins777] \n",
      "\tName [112774708637728768] \n",
      "\tCreation Time [2025-05-31 04:36:14.934060+00:00] \n",
      "\tResource Name [projects/721521243942/locations/us-central1/reasoningEngines/112774708637728768]\n",
      "\n"
     ]
    }
   ],
   "source": [
    "#@title Show agent list\n",
    "show_agents()"
   ]
  },
  {
   "cell_type": "code",
   "execution_count": 24,
   "metadata": {
    "colab": {
     "base_uri": "https://localhost:8080/"
    },
    "executionInfo": {
     "elapsed": 506,
     "status": "ok",
     "timestamp": 1745978139592,
     "user": {
      "displayName": "Hangsik Shin",
      "userId": "04632555686962088332"
     },
     "user_tz": -540
    },
    "id": "LFjFJQImRWTn",
    "outputId": "03a63302-c680-45a2-dbb1-907652774520"
   },
   "outputs": [
    {
     "data": {
      "text/plain": [
       "<vertexai.agent_engines._agent_engines.AgentEngine object at 0x107eb5af0> \n",
       "resource name: projects/ai-hangsik/locations/us-central1/reasoningEngines/1618186446970028032"
      ]
     },
     "execution_count": 24,
     "metadata": {},
     "output_type": "execute_result"
    }
   ],
   "source": [
    "#@title Get a agent with display name.\n",
    "agent = get_agent_engine(display_name=\"currency agent-20251101\")\n",
    "agent"
   ]
  },
  {
   "cell_type": "code",
   "execution_count": 26,
   "metadata": {
    "colab": {
     "base_uri": "https://localhost:8080/",
     "height": 260
    },
    "executionInfo": {
     "elapsed": 17851,
     "status": "ok",
     "timestamp": 1745978188183,
     "user": {
      "displayName": "Hangsik Shin",
      "userId": "04632555686962088332"
     },
     "user_tz": -540
    },
    "id": "I_K0F-q6omsm",
    "outputId": "241cc2f2-0c53-426f-ae5a-c5cfd5910698"
   },
   "outputs": [
    {
     "name": "stdout",
     "output_type": "stream",
     "text": [
      "As of November 1, 2025, the exchange rate from US dollars (USD) to Korean Won (KRW) is approximately 1 USD to 1429.22 KRW. On October 31, 2025, the USD/KRW exchange rate fell to 1429.2200.\n",
      "\n",
      "The bid price for USD/KRW is around 1428.91 and the ask price is around 1429.53. Other sources indicate rates such as 1 USD = 1427.3380 KRW.\n"
     ]
    }
   ],
   "source": [
    "# @title Query from remote engine.\n",
    "for event in agent.stream_query(\n",
    "    user_id=\"shins\",\n",
    "    message=\"What is the exchange rate from US dollars to Korean Won currency on toady?\",\n",
    "):\n",
    "  outcome = event['content']['parts'][0]['text']\n",
    "  print(outcome)"
   ]
  },
  {
   "cell_type": "code",
   "execution_count": 27,
   "metadata": {
    "id": "PL9PvhTxRuh0"
   },
   "outputs": [
    {
     "name": "stdout",
     "output_type": "stream",
     "text": [
      "400 The ReasoningEngine \"projects/ai-hangsik/locations/us-central1/reasoningEngines/3146032620555468800\" contains child resources: sessions. Please delete the child resources before deleting the ReasoningEngine, or set force to true to delete child resources.\n"
     ]
    }
   ],
   "source": [
    "#@title Delete a agent with name.\n",
    "delete_agent(name=\"3146032620555468800\")"
   ]
  },
  {
   "cell_type": "markdown",
   "metadata": {
    "id": "ZUD4vmEDEEKQ"
   },
   "source": [
    "## End of notebook"
   ]
  }
 ],
 "metadata": {
  "colab": {
   "provenance": [
    {
     "file_id": "18KWSMPqvW8wIoZt05HErp5ox7AcQJCnB",
     "timestamp": 1745676805223
    },
    {
     "file_id": "14nXc_svpkDXze1gG_hl-n3WuMLjtO8r1",
     "timestamp": 1744764440405
    },
    {
     "file_id": "1xCSqjFXJ9pvFoB7FHpzFOwd4RKTP8Rq9",
     "timestamp": 1744720767063
    },
    {
     "file_id": "1dplW-fx-T2JoHYdflbtnuuTGnVCPmwX5",
     "timestamp": 1731759280364
    },
    {
     "file_id": "https://github.com/GoogleCloudPlatform/generative-ai/blob/main/gemini/reasoning-engine/intro_reasoning_engine.ipynb",
     "timestamp": 1728218350256
    }
   ],
   "toc_visible": true
  },
  "kernelspec": {
   "display_name": ".venv (3.12.8)",
   "language": "python",
   "name": "python3"
  },
  "language_info": {
   "codemirror_mode": {
    "name": "ipython",
    "version": 3
   },
   "file_extension": ".py",
   "mimetype": "text/x-python",
   "name": "python",
   "nbconvert_exporter": "python",
   "pygments_lexer": "ipython3",
   "version": "3.12.8"
  }
 },
 "nbformat": 4,
 "nbformat_minor": 0
}
